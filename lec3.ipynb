{
 "cells": [
  {
   "cell_type": "code",
   "execution_count": 10,
   "id": "6f0ea2b8-54a9-49b2-b6ef-9cd1f7e705bc",
   "metadata": {},
   "outputs": [],
   "source": [
    "from fastai.vision.all import *\n",
    "import timm"
   ]
  },
  {
   "cell_type": "code",
   "execution_count": 11,
   "id": "eefdb200-0c6b-4741-8245-d72cd26f262a",
   "metadata": {},
   "outputs": [],
   "source": [
    "from numpy.random import uniform,seed,normal\n",
    "np.random.seed(42)"
   ]
  },
  {
   "cell_type": "code",
   "execution_count": 12,
   "id": "43eb5e12-4baa-4c64-9b08-69bbccfd4de1",
   "metadata": {},
   "outputs": [],
   "source": [
    "def noise(x,scale): return normal(scale=sacle, size=x.shape)\n",
    "def add_noise(x,mult, add): return x*(1+noise(x,mult))+ noise(x,add)    "
   ]
  },
  {
   "cell_type": "code",
   "execution_count": null,
   "id": "3ae981d8-eec6-4965-be8b-2df7c70342ab",
   "metadata": {},
   "outputs": [],
   "source": [
    "x = torch.linespace(-2,2,steps=20)[:,None]"
   ]
  }
 ],
 "metadata": {
  "kernelspec": {
   "display_name": "Python 3 (ipykernel)",
   "language": "python",
   "name": "python3"
  },
  "language_info": {
   "codemirror_mode": {
    "name": "ipython",
    "version": 3
   },
   "file_extension": ".py",
   "mimetype": "text/x-python",
   "name": "python",
   "nbconvert_exporter": "python",
   "pygments_lexer": "ipython3",
   "version": "3.10.13"
  }
 },
 "nbformat": 4,
 "nbformat_minor": 5
}
