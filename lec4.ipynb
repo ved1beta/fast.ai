{
 "cells": [
  {
   "cell_type": "code",
   "execution_count": null,
   "id": "c98d7721-e9e9-42dd-b9e9-9f35640e9ab1",
   "metadata": {},
   "outputs": [],
   "source": [
    "lec "
   ]
  }
 ],
 "metadata": {
  "kernelspec": {
   "display_name": "Python 3 (ipykernel)",
   "language": "python",
   "name": "python3"
  },
  "language_info": {
   "codemirror_mode": {
    "name": "ipython",
    "version": 3
   },
   "file_extension": ".py",
   "mimetype": "text/x-python",
   "name": "python",
   "nbconvert_exporter": "python",
   "pygments_lexer": "ipython3",
   "version": "3.10.13"
  }
 },
 "nbformat": 4,
 "nbformat_minor": 5
}
